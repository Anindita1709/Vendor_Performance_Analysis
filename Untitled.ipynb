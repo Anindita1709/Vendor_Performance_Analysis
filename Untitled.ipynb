{
 "cells": [
  {
   "cell_type": "code",
   "execution_count": 1,
   "metadata": {},
   "outputs": [],
   "source": [
    "import pandas as pd\n",
    "import os\n",
    "from sqlalchemy import create_engine"
   ]
  },
  {
   "cell_type": "markdown",
   "metadata": {},
   "source": []
  },
  {
   "cell_type": "code",
   "execution_count": 2,
   "metadata": {},
   "outputs": [],
   "source": [
    "engine = create_engine('sqlite:///inventory.db')\n"
   ]
  },
  {
   "cell_type": "code",
   "execution_count": 9,
   "metadata": {},
   "outputs": [],
   "source": [
    "import pandas as pd\n",
    "import os\n",
    "from sqlalchemy import create_engine\n",
    "import logging\n",
    "import time\n",
    "\n",
    "logging.basicConfig(\n",
    "    filename=\"logs/ingestion_db.log\",\n",
    "    level=logging.DEBUG,\n",
    "    format=\"%(asctime)s - %(levelname)s - %(message)s\",\n",
    "    filemode=\"a\"\n",
    ")\n",
    "\n",
    "chunk_size = 10000\n",
    "folder_path = \"../data/data\"\n",
    "engine = create_engine('sqlite:///inventory.db')\n",
    "\n",
    "def load_raw_data():\n",
    "    \"\"\"Load CSVs in chunks and ingest into the database\"\"\"\n",
    "    start = time.time()\n",
    "\n",
    "    for file in os.listdir(folder_path):\n",
    "        if file.endswith(\".csv\"):\n",
    "            file_path = os.path.join(folder_path, file)\n",
    "            table_name = file[:-4]\n",
    "\n",
    "            logging.info(f\"Starting ingestion for {file}\")\n",
    "\n",
    "            first = True\n",
    "            for chunk in pd.read_csv(file_path, chunksize=chunk_size):\n",
    "                if first:\n",
    "                    # Replace table for the first chunk (fresh start each run)\n",
    "                    chunk.to_sql(table_name, con=engine, index=False, if_exists=\"replace\")\n",
    "                    first = False\n",
    "                else:\n",
    "                    # Append for subsequent chunks\n",
    "                    chunk.to_sql(table_name, con=engine, index=False, if_exists=\"append\")\n",
    "\n",
    "                #logging.info(f\"Chunk of {len(chunk)} rows ingested into {table_name}\")\n",
    "\n",
    "            logging.info(f\"Finished ingestion for {file}\")\n",
    "\n",
    "    end = time.time()\n",
    "    total_time = (end - start) / 60\n",
    "    logging.info(\"---------------Ingestion Complete----------------\")\n",
    "    logging.info(f\"Total Time Taken: {total_time:.2f} minutes\")\n",
    "\n",
    "\n",
    "if __name__ == '__main__':\n",
    "    load_raw_data()\n"
   ]
  },
  {
   "cell_type": "code",
   "execution_count": 8,
   "metadata": {},
   "outputs": [
    {
     "name": "stdout",
     "output_type": "stream",
     "text": [
      "C:\\Users\\priya\\Desktop\\MinorSDE\n"
     ]
    }
   ],
   "source": [
    "print(os.getcwd())\n"
   ]
  },
  {
   "cell_type": "code",
   "execution_count": null,
   "metadata": {},
   "outputs": [],
   "source": []
  }
 ],
 "metadata": {
  "kernelspec": {
   "display_name": "Python 3",
   "language": "python",
   "name": "python3"
  },
  "language_info": {
   "codemirror_mode": {
    "name": "ipython",
    "version": 3
   },
   "file_extension": ".py",
   "mimetype": "text/x-python",
   "name": "python",
   "nbconvert_exporter": "python",
   "pygments_lexer": "ipython3",
   "version": "3.8.5"
  }
 },
 "nbformat": 4,
 "nbformat_minor": 4
}
